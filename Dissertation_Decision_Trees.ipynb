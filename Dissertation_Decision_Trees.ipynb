{
 "cells": [
  {
   "cell_type": "code",
   "execution_count": 1,
   "id": "57605d84",
   "metadata": {},
   "outputs": [],
   "source": [
    "from pyspark.sql import SparkSession\n",
    "from pyspark.conf import SparkConf"
   ]
  },
  {
   "cell_type": "code",
   "execution_count": 2,
   "id": "b2bb2cb5",
   "metadata": {},
   "outputs": [],
   "source": [
    "#Establishing the environment for Spark so that it can access the cluster.\n",
    "spark=SparkSession.builder\\\n",
    " .master(\"local[*]\")\\\n",
    " .appName(\"League of Legends Features at 10min Mark\")\\\n",
    " .getOrCreate()\n",
    "sc=spark.sparkContext"
   ]
  },
  {
   "cell_type": "code",
   "execution_count": 3,
   "id": "5a45afc5",
   "metadata": {},
   "outputs": [],
   "source": [
    "# Data is brought in.\n",
    "lol_data = spark.read.csv(r\"C:\\Users\\LVada\\Documents\\Dissertation\\lol_clean_data.csv\", inferSchema = True, header = True)"
   ]
  },
  {
   "cell_type": "code",
   "execution_count": 4,
   "id": "f9478d1b",
   "metadata": {},
   "outputs": [
    {
     "data": {
      "text/plain": [
       "[Row(blueWins=0, blueWardsPlaced=28, blueWardsDestroyed=2, blueFirstBlood=1, blueKills=9, blueDeaths=6, blueAssists=11, blueEliteMonsters=0, blueTowersDestroyed=0, blueTotalGold=17210, blueAvgLevel=6.6, blueTotalExperience=17039, blueTotalMinionsKilled=195, blueTotalJungleMinionsKilled=36, blueGoldDiff=643, blueExperienceDiff=-8, redWardsPlaced=15, redWardsDestroyed=6, redFirstBlood=0, redKills=6, redDeaths=9, redAssists=8, redEliteMonsters=0, redTowersDestroyed=0, redTotalGold=16567, redAvgLevel=6.8, redTotalExperience=17047, redTotalMinionsKilled=197, redTotalJungleMinionsKilled=55, redGoldDiff=-643, redExperienceDiff=8),\n",
       " Row(blueWins=0, blueWardsPlaced=12, blueWardsDestroyed=1, blueFirstBlood=0, blueKills=5, blueDeaths=5, blueAssists=5, blueEliteMonsters=0, blueTowersDestroyed=0, blueTotalGold=14712, blueAvgLevel=6.6, blueTotalExperience=16265, blueTotalMinionsKilled=174, blueTotalJungleMinionsKilled=43, blueGoldDiff=-2908, blueExperienceDiff=-1173, redWardsPlaced=12, redWardsDestroyed=1, redFirstBlood=1, redKills=5, redDeaths=5, redAssists=2, redEliteMonsters=2, redTowersDestroyed=1, redTotalGold=17620, redAvgLevel=6.8, redTotalExperience=17438, redTotalMinionsKilled=240, redTotalJungleMinionsKilled=52, redGoldDiff=2908, redExperienceDiff=1173),\n",
       " Row(blueWins=0, blueWardsPlaced=15, blueWardsDestroyed=0, blueFirstBlood=0, blueKills=7, blueDeaths=11, blueAssists=4, blueEliteMonsters=1, blueTowersDestroyed=0, blueTotalGold=16113, blueAvgLevel=6.4, blueTotalExperience=16221, blueTotalMinionsKilled=186, blueTotalJungleMinionsKilled=46, blueGoldDiff=-1172, blueExperienceDiff=-1033, redWardsPlaced=15, redWardsDestroyed=3, redFirstBlood=1, redKills=11, redDeaths=7, redAssists=14, redEliteMonsters=0, redTowersDestroyed=0, redTotalGold=17285, redAvgLevel=6.8, redTotalExperience=17254, redTotalMinionsKilled=203, redTotalJungleMinionsKilled=28, redGoldDiff=1172, redExperienceDiff=1033),\n",
       " Row(blueWins=0, blueWardsPlaced=43, blueWardsDestroyed=1, blueFirstBlood=0, blueKills=4, blueDeaths=5, blueAssists=5, blueEliteMonsters=1, blueTowersDestroyed=0, blueTotalGold=15157, blueAvgLevel=7.0, blueTotalExperience=17954, blueTotalMinionsKilled=201, blueTotalJungleMinionsKilled=55, blueGoldDiff=-1321, blueExperienceDiff=-7, redWardsPlaced=15, redWardsDestroyed=2, redFirstBlood=1, redKills=5, redDeaths=4, redAssists=10, redEliteMonsters=0, redTowersDestroyed=0, redTotalGold=16478, redAvgLevel=7.0, redTotalExperience=17961, redTotalMinionsKilled=235, redTotalJungleMinionsKilled=47, redGoldDiff=1321, redExperienceDiff=7),\n",
       " Row(blueWins=0, blueWardsPlaced=75, blueWardsDestroyed=4, blueFirstBlood=0, blueKills=6, blueDeaths=6, blueAssists=6, blueEliteMonsters=0, blueTowersDestroyed=0, blueTotalGold=16400, blueAvgLevel=7.0, blueTotalExperience=18543, blueTotalMinionsKilled=210, blueTotalJungleMinionsKilled=57, blueGoldDiff=-1004, blueExperienceDiff=230, redWardsPlaced=17, redWardsDestroyed=2, redFirstBlood=1, redKills=6, redDeaths=6, redAssists=7, redEliteMonsters=1, redTowersDestroyed=0, redTotalGold=17404, redAvgLevel=7.0, redTotalExperience=18313, redTotalMinionsKilled=225, redTotalJungleMinionsKilled=67, redGoldDiff=1004, redExperienceDiff=-230),\n",
       " Row(blueWins=1, blueWardsPlaced=18, blueWardsDestroyed=0, blueFirstBlood=0, blueKills=5, blueDeaths=3, blueAssists=6, blueEliteMonsters=1, blueTowersDestroyed=0, blueTotalGold=15899, blueAvgLevel=7.0, blueTotalExperience=18161, blueTotalMinionsKilled=225, blueTotalJungleMinionsKilled=42, blueGoldDiff=698, blueExperienceDiff=101, redWardsPlaced=36, redWardsDestroyed=5, redFirstBlood=1, redKills=3, redDeaths=5, redAssists=2, redEliteMonsters=0, redTowersDestroyed=0, redTotalGold=15201, redAvgLevel=7.0, redTotalExperience=18060, redTotalMinionsKilled=221, redTotalJungleMinionsKilled=59, redGoldDiff=-698, redExperienceDiff=-101)]"
      ]
     },
     "execution_count": 4,
     "metadata": {},
     "output_type": "execute_result"
    }
   ],
   "source": [
    "# Observing the first six rows of the data frame\n",
    "lol_data.head(6) "
   ]
  },
  {
   "cell_type": "code",
   "execution_count": 5,
   "id": "96214446",
   "metadata": {},
   "outputs": [
    {
     "name": "stdout",
     "output_type": "stream",
     "text": [
      "+--------+---------------+------------------+--------------+---------+----------+-----------+-----------------+-------------------+-------------+------------+-------------------+----------------------+----------------------------+------------+------------------+--------------+-----------------+-------------+--------+---------+----------+----------------+------------------+------------+-----------+------------------+---------------------+---------------------------+-----------+-----------------+\n",
      "|blueWins|blueWardsPlaced|blueWardsDestroyed|blueFirstBlood|blueKills|blueDeaths|blueAssists|blueEliteMonsters|blueTowersDestroyed|blueTotalGold|blueAvgLevel|blueTotalExperience|blueTotalMinionsKilled|blueTotalJungleMinionsKilled|blueGoldDiff|blueExperienceDiff|redWardsPlaced|redWardsDestroyed|redFirstBlood|redKills|redDeaths|redAssists|redEliteMonsters|redTowersDestroyed|redTotalGold|redAvgLevel|redTotalExperience|redTotalMinionsKilled|redTotalJungleMinionsKilled|redGoldDiff|redExperienceDiff|\n",
      "+--------+---------------+------------------+--------------+---------+----------+-----------+-----------------+-------------------+-------------+------------+-------------------+----------------------+----------------------------+------------+------------------+--------------+-----------------+-------------+--------+---------+----------+----------------+------------------+------------+-----------+------------------+---------------------+---------------------------+-----------+-----------------+\n",
      "|       0|             28|                 2|             1|        9|         6|         11|                0|                  0|        17210|         6.6|              17039|                   195|                          36|         643|                -8|            15|                6|            0|       6|        9|         8|               0|                 0|       16567|        6.8|             17047|                  197|                         55|       -643|                8|\n",
      "|       0|             12|                 1|             0|        5|         5|          5|                0|                  0|        14712|         6.6|              16265|                   174|                          43|       -2908|             -1173|            12|                1|            1|       5|        5|         2|               2|                 1|       17620|        6.8|             17438|                  240|                         52|       2908|             1173|\n",
      "|       0|             15|                 0|             0|        7|        11|          4|                1|                  0|        16113|         6.4|              16221|                   186|                          46|       -1172|             -1033|            15|                3|            1|      11|        7|        14|               0|                 0|       17285|        6.8|             17254|                  203|                         28|       1172|             1033|\n",
      "|       0|             43|                 1|             0|        4|         5|          5|                1|                  0|        15157|         7.0|              17954|                   201|                          55|       -1321|                -7|            15|                2|            1|       5|        4|        10|               0|                 0|       16478|        7.0|             17961|                  235|                         47|       1321|                7|\n",
      "|       0|             75|                 4|             0|        6|         6|          6|                0|                  0|        16400|         7.0|              18543|                   210|                          57|       -1004|               230|            17|                2|            1|       6|        6|         7|               1|                 0|       17404|        7.0|             18313|                  225|                         67|       1004|             -230|\n",
      "|       1|             18|                 0|             0|        5|         3|          6|                1|                  0|        15899|         7.0|              18161|                   225|                          42|         698|               101|            36|                5|            1|       3|        5|         2|               0|                 0|       15201|        7.0|             18060|                  221|                         59|       -698|             -101|\n",
      "|       1|             18|                 3|             1|        7|         6|          7|                1|                  0|        16874|         6.8|              16967|                   225|                          53|        2411|              1563|            57|                1|            0|       6|        7|         9|               0|                 0|       14463|        6.4|             15404|                  164|                         35|      -2411|            -1563|\n",
      "|       0|             16|                 2|             0|        5|        13|          3|                0|                  0|        15305|         6.4|              16138|                   209|                          48|       -2615|              -800|            15|                0|            1|      13|        5|        11|               1|                 0|       17920|        6.6|             16938|                  157|                         54|       2615|              800|\n",
      "|       0|             16|                 3|             0|        7|         7|          8|                0|                  0|        16401|         7.2|              18527|                   189|                          61|       -1979|              -771|            15|                2|            1|       7|        7|         5|               2|                 0|       18380|        7.2|             19298|                  240|                         53|       1979|              771|\n",
      "|       1|             13|                 1|             1|        4|         5|          5|                1|                  0|        15057|         6.8|              16805|                   220|                          39|       -1548|             -1574|            16|                2|            0|       5|        4|         4|               0|                 0|       16605|        6.8|             18379|                  247|                         43|       1548|             1574|\n",
      "|       0|             20|                 3|             1|        4|         4|          6|                0|                  0|        15474|         6.6|              16611|                   231|                          28|         331|             -1585|            15|                2|            0|       4|        4|         5|               1|                 0|       15143|        7.2|             18196|                  216|                         51|       -331|             1585|\n",
      "|       0|             33|                 2|             1|       11|        11|          7|                1|                  0|        16695|         7.0|              18507|                   157|                          40|       -1505|              -635|            17|                1|            0|      11|       11|         9|               0|                 0|       18200|        7.0|             19142|                  188|                         52|       1505|              635|\n",
      "|       1|             18|                 1|             1|        7|         1|         11|                1|                  0|        17865|         7.4|              19102|                   238|                          53|        3274|              1659|            12|                1|            0|       1|        7|         1|               0|                 0|       14591|        6.8|             17443|                  240|                         50|      -3274|            -1659|\n",
      "|       0|             14|                 3|             0|        4|         9|          1|                1|                  0|        14979|         6.6|              17213|                   210|                          52|       -3414|             -1141|            20|                3|            1|       9|        4|        11|               0|                 0|       18393|        7.2|             18354|                  229|                         51|       3414|             1141|\n",
      "|       1|             15|                 3|             1|        4|         4|          4|                0|                  0|        15722|         6.8|              17896|                   224|                          51|        -470|              -187|           102|                1|            0|       4|        4|         3|               0|                 0|       16192|        7.0|             18083|                  242|                         48|        470|              187|\n",
      "|       0|             17|                 1|             0|        3|         7|          3|                0|                  0|        15015|         6.8|              16974|                   209|                          53|       -1996|             -1804|            18|                3|            1|       7|        3|        13|               0|                 0|       17011|        7.2|             18778|                  237|                         51|       1996|             1804|\n",
      "|       1|             14|                 1|             1|       10|         2|          8|                0|                  0|        19733|         7.6|              20862|                   263|                          56|        5228|              3378|            13|                2|            0|       2|       10|         2|               1|                 0|       14505|        6.8|             17484|                  210|                         64|      -5228|            -3378|\n",
      "|       0|             43|                 3|             0|        3|         7|          3|                1|                  0|        14852|         6.8|              16888|                   203|                          54|       -1975|             -1345|            17|               14|            1|       7|        3|         6|               0|                 0|       16827|        6.8|             18233|                  218|                         53|       1975|             1345|\n",
      "|       1|             21|                 4|             1|        5|         4|         11|                0|                  0|        16282|         6.8|              17378|                   213|                          49|         882|               512|            19|                3|            0|       4|        5|         3|               2|                 0|       15400|        6.6|             16866|                  228|                         52|       -882|             -512|\n",
      "|       0|             11|                 3|             0|        5|         9|          5|                0|                  0|        14994|         7.0|              17924|                   188|                          48|       -3155|             -2773|            15|                1|            1|       9|        5|         9|               0|                 0|       18149|        7.4|             20697|                  219|                         56|       3155|             2773|\n",
      "+--------+---------------+------------------+--------------+---------+----------+-----------+-----------------+-------------------+-------------+------------+-------------------+----------------------+----------------------------+------------+------------------+--------------+-----------------+-------------+--------+---------+----------+----------------+------------------+------------+-----------+------------------+---------------------+---------------------------+-----------+-----------------+\n",
      "only showing top 20 rows\n",
      "\n"
     ]
    }
   ],
   "source": [
    "# Observing the data frame itself.\n",
    "lol_data.show() "
   ]
  },
  {
   "cell_type": "code",
   "execution_count": 6,
   "id": "42915df2",
   "metadata": {},
   "outputs": [
    {
     "name": "stdout",
     "output_type": "stream",
     "text": [
      "+--------+-----+\n",
      "|blueWins|count|\n",
      "+--------+-----+\n",
      "|       1| 4930|\n",
      "|       0| 4949|\n",
      "+--------+-----+\n",
      "\n"
     ]
    }
   ],
   "source": [
    "# Checking the target variable groups, the blue team has 4930 positive match outcomes and 4949 negative ones.\n",
    "lol_data.groupBy(\"blueWins\").count().show()"
   ]
  },
  {
   "cell_type": "code",
   "execution_count": 7,
   "id": "5c5b2ed1",
   "metadata": {},
   "outputs": [
    {
     "data": {
      "text/plain": [
       "9879"
      ]
     },
     "execution_count": 7,
     "metadata": {},
     "output_type": "execute_result"
    }
   ],
   "source": [
    "# Number of data occurrences.\n",
    "lol_data.count()"
   ]
  },
  {
   "cell_type": "code",
   "execution_count": 8,
   "id": "ea5ea2b5",
   "metadata": {},
   "outputs": [
    {
     "data": {
      "text/plain": [
       "31"
      ]
     },
     "execution_count": 8,
     "metadata": {},
     "output_type": "execute_result"
    }
   ],
   "source": [
    "# Number of data attributes.\n",
    "len(lol_data.columns)"
   ]
  },
  {
   "cell_type": "code",
   "execution_count": 9,
   "id": "c9ef5fd3",
   "metadata": {},
   "outputs": [
    {
     "name": "stdout",
     "output_type": "stream",
     "text": [
      "root\n",
      " |-- blueWins: integer (nullable = true)\n",
      " |-- blueWardsPlaced: integer (nullable = true)\n",
      " |-- blueWardsDestroyed: integer (nullable = true)\n",
      " |-- blueFirstBlood: integer (nullable = true)\n",
      " |-- blueKills: integer (nullable = true)\n",
      " |-- blueDeaths: integer (nullable = true)\n",
      " |-- blueAssists: integer (nullable = true)\n",
      " |-- blueEliteMonsters: integer (nullable = true)\n",
      " |-- blueTowersDestroyed: integer (nullable = true)\n",
      " |-- blueTotalGold: integer (nullable = true)\n",
      " |-- blueAvgLevel: double (nullable = true)\n",
      " |-- blueTotalExperience: integer (nullable = true)\n",
      " |-- blueTotalMinionsKilled: integer (nullable = true)\n",
      " |-- blueTotalJungleMinionsKilled: integer (nullable = true)\n",
      " |-- blueGoldDiff: integer (nullable = true)\n",
      " |-- blueExperienceDiff: integer (nullable = true)\n",
      " |-- redWardsPlaced: integer (nullable = true)\n",
      " |-- redWardsDestroyed: integer (nullable = true)\n",
      " |-- redFirstBlood: integer (nullable = true)\n",
      " |-- redKills: integer (nullable = true)\n",
      " |-- redDeaths: integer (nullable = true)\n",
      " |-- redAssists: integer (nullable = true)\n",
      " |-- redEliteMonsters: integer (nullable = true)\n",
      " |-- redTowersDestroyed: integer (nullable = true)\n",
      " |-- redTotalGold: integer (nullable = true)\n",
      " |-- redAvgLevel: double (nullable = true)\n",
      " |-- redTotalExperience: integer (nullable = true)\n",
      " |-- redTotalMinionsKilled: integer (nullable = true)\n",
      " |-- redTotalJungleMinionsKilled: integer (nullable = true)\n",
      " |-- redGoldDiff: integer (nullable = true)\n",
      " |-- redExperienceDiff: integer (nullable = true)\n",
      "\n"
     ]
    }
   ],
   "source": [
    "# Data frame structure.\n",
    "lol_data.printSchema()"
   ]
  },
  {
   "cell_type": "code",
   "execution_count": 10,
   "id": "97b91861",
   "metadata": {},
   "outputs": [
    {
     "name": "stdout",
     "output_type": "stream",
     "text": [
      "+-------+------------------+------------------+------------------+------------------+-----------------+------------------+-----------------+------------------+-------------------+------------------+------------------+-------------------+----------------------+----------------------------+------------------+------------------+------------------+-----------------+-------------------+------------------+-----------------+-----------------+------------------+-------------------+------------------+-----------------+------------------+---------------------+---------------------------+-------------------+------------------+\n",
      "|summary|          blueWins|   blueWardsPlaced|blueWardsDestroyed|    blueFirstBlood|        blueKills|        blueDeaths|      blueAssists| blueEliteMonsters|blueTowersDestroyed|     blueTotalGold|      blueAvgLevel|blueTotalExperience|blueTotalMinionsKilled|blueTotalJungleMinionsKilled|      blueGoldDiff|blueExperienceDiff|    redWardsPlaced|redWardsDestroyed|      redFirstBlood|          redKills|        redDeaths|       redAssists|  redEliteMonsters| redTowersDestroyed|      redTotalGold|      redAvgLevel|redTotalExperience|redTotalMinionsKilled|redTotalJungleMinionsKilled|        redGoldDiff| redExperienceDiff|\n",
      "+-------+------------------+------------------+------------------+------------------+-----------------+------------------+-----------------+------------------+-------------------+------------------+------------------+-------------------+----------------------+----------------------------+------------------+------------------+------------------+-----------------+-------------------+------------------+-----------------+-----------------+------------------+-------------------+------------------+-----------------+------------------+---------------------+---------------------------+-------------------+------------------+\n",
      "|  count|              9879|              9879|              9879|              9879|             9879|              9879|             9879|              9879|               9879|              9879|              9879|               9879|                  9879|                        9879|              9879|              9879|              9879|             9879|               9879|              9879|             9879|             9879|              9879|               9879|              9879|             9879|              9879|                 9879|                       9879|               9879|              9879|\n",
      "|   mean|0.4990383642069035| 22.28828828828829| 2.824881060836117|0.5048081789654824| 6.18392549853224| 6.137665755643284|6.645105779937241|0.5499544488308533|0.05142220872557951|16503.455511691467|  6.91600364409359| 17928.110132604514|     216.6995647332726|           50.50966697034113|14.414110739953436|-33.62030569895738|22.367952221884806|2.723150116408543|0.49519182103451764| 6.137665755643284| 6.18392549853224|6.662111549751999|0.5731349326854945|0.04302054863852617| 16489.04140095151|6.925316327563569| 17961.73043830347|    217.3492256301245|         51.313088369268144|-14.414110739953436| 33.62030569895738|\n",
      "| stddev|0.5000243833353937|18.019176515802513|2.1749983822222023|0.5000021878367942|3.011027975365158|2.9338177091822204|4.064519899696559|0.6255265026337928|0.24436916855721566|1535.4466363146512|0.3051458222812846| 1200.5237643565192|     21.85843737515405|           9.898282161842527| 2453.349179403422|1920.3704381807977|18.457426796153225|2.138356114561953| 0.5000021878367944|2.9338177091822204|3.011027975365158|4.060612445329826| 0.626481642139912|0.21689993728200221|1490.8884057212765|0.305311418733442|1198.5839120078476|   21.911668027462113|         10.027884879893183|  2453.349179403422|1920.3704381807977|\n",
      "|    min|                 0|                 5|                 0|                 0|                0|                 0|                0|                 0|                  0|             10730|               4.6|              10098|                    90|                           0|            -10830|             -9333|                 6|                0|                  0|                 0|                0|                0|                 0|                  0|             11212|              4.8|             10465|                  107|                          4|             -11467|             -8348|\n",
      "|    max|                 1|               250|                27|                 1|               22|                22|               29|                 2|                  4|             23701|               8.0|              22224|                   283|                          92|             11467|              8348|               276|               24|                  1|                22|               22|               28|                 2|                  2|             22732|              8.2|             22269|                  289|                         92|              10830|              9333|\n",
      "+-------+------------------+------------------+------------------+------------------+-----------------+------------------+-----------------+------------------+-------------------+------------------+------------------+-------------------+----------------------+----------------------------+------------------+------------------+------------------+-----------------+-------------------+------------------+-----------------+-----------------+------------------+-------------------+------------------+-----------------+------------------+---------------------+---------------------------+-------------------+------------------+\n",
      "\n"
     ]
    }
   ],
   "source": [
    "# Summary statistics\n",
    "lol_data.describe().show()"
   ]
  },
  {
   "cell_type": "code",
   "execution_count": 11,
   "id": "f52d3ecc",
   "metadata": {},
   "outputs": [],
   "source": [
    "# Implementing feature transformer with a vector assembler library. It is part of MLlib, Spark's scalable ML library.\n",
    "from pyspark.ml.feature import VectorAssembler"
   ]
  },
  {
   "cell_type": "code",
   "execution_count": 12,
   "id": "048bda17",
   "metadata": {},
   "outputs": [
    {
     "data": {
      "text/plain": [
       "['blueWins',\n",
       " 'blueWardsPlaced',\n",
       " 'blueWardsDestroyed',\n",
       " 'blueFirstBlood',\n",
       " 'blueKills',\n",
       " 'blueDeaths',\n",
       " 'blueAssists',\n",
       " 'blueEliteMonsters',\n",
       " 'blueTowersDestroyed',\n",
       " 'blueTotalGold',\n",
       " 'blueAvgLevel',\n",
       " 'blueTotalExperience',\n",
       " 'blueTotalMinionsKilled',\n",
       " 'blueTotalJungleMinionsKilled',\n",
       " 'blueGoldDiff',\n",
       " 'blueExperienceDiff',\n",
       " 'redWardsPlaced',\n",
       " 'redWardsDestroyed',\n",
       " 'redFirstBlood',\n",
       " 'redKills',\n",
       " 'redDeaths',\n",
       " 'redAssists',\n",
       " 'redEliteMonsters',\n",
       " 'redTowersDestroyed',\n",
       " 'redTotalGold',\n",
       " 'redAvgLevel',\n",
       " 'redTotalExperience',\n",
       " 'redTotalMinionsKilled',\n",
       " 'redTotalJungleMinionsKilled',\n",
       " 'redGoldDiff',\n",
       " 'redExperienceDiff']"
      ]
     },
     "execution_count": 12,
     "metadata": {},
     "output_type": "execute_result"
    }
   ],
   "source": [
    "# Checking the variable names.\n",
    "lol_data.columns"
   ]
  },
  {
   "cell_type": "code",
   "execution_count": 13,
   "id": "61c0db91",
   "metadata": {},
   "outputs": [
    {
     "data": {
      "text/plain": [
       "VectorAssembler_bc06e7b697c8"
      ]
     },
     "execution_count": 13,
     "metadata": {},
     "output_type": "execute_result"
    }
   ],
   "source": [
    "# Using the class \"VectorAssembler\", calling all independent variables and adding them into an output vector column. The result is stored in the \"lol_assembler\" variable.\n",
    "lol_assembler = VectorAssembler(inputCols = ['blueWardsPlaced','blueWardsDestroyed','blueFirstBlood','blueKills','blueDeaths','blueAssists','blueEliteMonsters','blueTowersDestroyed',\n",
    "                                         'blueTotalGold','blueAvgLevel','blueTotalExperience','blueTotalMinionsKilled','blueTotalJungleMinionsKilled','blueGoldDiff','blueExperienceDiff',\n",
    "                                         'redWardsPlaced','redWardsDestroyed','redFirstBlood','redKills','redDeaths','redAssists','redEliteMonsters','redTowersDestroyed',\n",
    "                                         'redTotalGold','redAvgLevel','redTotalExperience','redTotalMinionsKilled','redTotalJungleMinionsKilled','redGoldDiff','redExperienceDiff'],\n",
    "                            outputCol = \"features\")\n",
    "lol_assembler"
   ]
  },
  {
   "cell_type": "code",
   "execution_count": 14,
   "id": "93c4277d",
   "metadata": {},
   "outputs": [
    {
     "name": "stdout",
     "output_type": "stream",
     "text": [
      "+--------+---------------+------------------+--------------+---------+----------+-----------+-----------------+-------------------+-------------+------------+-------------------+----------------------+----------------------------+------------+------------------+--------------+-----------------+-------------+--------+---------+----------+----------------+------------------+------------+-----------+------------------+---------------------+---------------------------+-----------+-----------------+--------------------+\n",
      "|blueWins|blueWardsPlaced|blueWardsDestroyed|blueFirstBlood|blueKills|blueDeaths|blueAssists|blueEliteMonsters|blueTowersDestroyed|blueTotalGold|blueAvgLevel|blueTotalExperience|blueTotalMinionsKilled|blueTotalJungleMinionsKilled|blueGoldDiff|blueExperienceDiff|redWardsPlaced|redWardsDestroyed|redFirstBlood|redKills|redDeaths|redAssists|redEliteMonsters|redTowersDestroyed|redTotalGold|redAvgLevel|redTotalExperience|redTotalMinionsKilled|redTotalJungleMinionsKilled|redGoldDiff|redExperienceDiff|            features|\n",
      "+--------+---------------+------------------+--------------+---------+----------+-----------+-----------------+-------------------+-------------+------------+-------------------+----------------------+----------------------------+------------+------------------+--------------+-----------------+-------------+--------+---------+----------+----------------+------------------+------------+-----------+------------------+---------------------+---------------------------+-----------+-----------------+--------------------+\n",
      "|       0|             28|                 2|             1|        9|         6|         11|                0|                  0|        17210|         6.6|              17039|                   195|                          36|         643|                -8|            15|                6|            0|       6|        9|         8|               0|                 0|       16567|        6.8|             17047|                  197|                         55|       -643|                8|[28.0,2.0,1.0,9.0...|\n",
      "|       0|             12|                 1|             0|        5|         5|          5|                0|                  0|        14712|         6.6|              16265|                   174|                          43|       -2908|             -1173|            12|                1|            1|       5|        5|         2|               2|                 1|       17620|        6.8|             17438|                  240|                         52|       2908|             1173|[12.0,1.0,0.0,5.0...|\n",
      "|       0|             15|                 0|             0|        7|        11|          4|                1|                  0|        16113|         6.4|              16221|                   186|                          46|       -1172|             -1033|            15|                3|            1|      11|        7|        14|               0|                 0|       17285|        6.8|             17254|                  203|                         28|       1172|             1033|[15.0,0.0,0.0,7.0...|\n",
      "|       0|             43|                 1|             0|        4|         5|          5|                1|                  0|        15157|         7.0|              17954|                   201|                          55|       -1321|                -7|            15|                2|            1|       5|        4|        10|               0|                 0|       16478|        7.0|             17961|                  235|                         47|       1321|                7|[43.0,1.0,0.0,4.0...|\n",
      "|       0|             75|                 4|             0|        6|         6|          6|                0|                  0|        16400|         7.0|              18543|                   210|                          57|       -1004|               230|            17|                2|            1|       6|        6|         7|               1|                 0|       17404|        7.0|             18313|                  225|                         67|       1004|             -230|[75.0,4.0,0.0,6.0...|\n",
      "|       1|             18|                 0|             0|        5|         3|          6|                1|                  0|        15899|         7.0|              18161|                   225|                          42|         698|               101|            36|                5|            1|       3|        5|         2|               0|                 0|       15201|        7.0|             18060|                  221|                         59|       -698|             -101|[18.0,0.0,0.0,5.0...|\n",
      "|       1|             18|                 3|             1|        7|         6|          7|                1|                  0|        16874|         6.8|              16967|                   225|                          53|        2411|              1563|            57|                1|            0|       6|        7|         9|               0|                 0|       14463|        6.4|             15404|                  164|                         35|      -2411|            -1563|[18.0,3.0,1.0,7.0...|\n",
      "|       0|             16|                 2|             0|        5|        13|          3|                0|                  0|        15305|         6.4|              16138|                   209|                          48|       -2615|              -800|            15|                0|            1|      13|        5|        11|               1|                 0|       17920|        6.6|             16938|                  157|                         54|       2615|              800|[16.0,2.0,0.0,5.0...|\n",
      "|       0|             16|                 3|             0|        7|         7|          8|                0|                  0|        16401|         7.2|              18527|                   189|                          61|       -1979|              -771|            15|                2|            1|       7|        7|         5|               2|                 0|       18380|        7.2|             19298|                  240|                         53|       1979|              771|[16.0,3.0,0.0,7.0...|\n",
      "|       1|             13|                 1|             1|        4|         5|          5|                1|                  0|        15057|         6.8|              16805|                   220|                          39|       -1548|             -1574|            16|                2|            0|       5|        4|         4|               0|                 0|       16605|        6.8|             18379|                  247|                         43|       1548|             1574|[13.0,1.0,1.0,4.0...|\n",
      "|       0|             20|                 3|             1|        4|         4|          6|                0|                  0|        15474|         6.6|              16611|                   231|                          28|         331|             -1585|            15|                2|            0|       4|        4|         5|               1|                 0|       15143|        7.2|             18196|                  216|                         51|       -331|             1585|[20.0,3.0,1.0,4.0...|\n",
      "|       0|             33|                 2|             1|       11|        11|          7|                1|                  0|        16695|         7.0|              18507|                   157|                          40|       -1505|              -635|            17|                1|            0|      11|       11|         9|               0|                 0|       18200|        7.0|             19142|                  188|                         52|       1505|              635|[33.0,2.0,1.0,11....|\n",
      "|       1|             18|                 1|             1|        7|         1|         11|                1|                  0|        17865|         7.4|              19102|                   238|                          53|        3274|              1659|            12|                1|            0|       1|        7|         1|               0|                 0|       14591|        6.8|             17443|                  240|                         50|      -3274|            -1659|[18.0,1.0,1.0,7.0...|\n",
      "|       0|             14|                 3|             0|        4|         9|          1|                1|                  0|        14979|         6.6|              17213|                   210|                          52|       -3414|             -1141|            20|                3|            1|       9|        4|        11|               0|                 0|       18393|        7.2|             18354|                  229|                         51|       3414|             1141|[14.0,3.0,0.0,4.0...|\n",
      "|       1|             15|                 3|             1|        4|         4|          4|                0|                  0|        15722|         6.8|              17896|                   224|                          51|        -470|              -187|           102|                1|            0|       4|        4|         3|               0|                 0|       16192|        7.0|             18083|                  242|                         48|        470|              187|[15.0,3.0,1.0,4.0...|\n",
      "|       0|             17|                 1|             0|        3|         7|          3|                0|                  0|        15015|         6.8|              16974|                   209|                          53|       -1996|             -1804|            18|                3|            1|       7|        3|        13|               0|                 0|       17011|        7.2|             18778|                  237|                         51|       1996|             1804|[17.0,1.0,0.0,3.0...|\n",
      "|       1|             14|                 1|             1|       10|         2|          8|                0|                  0|        19733|         7.6|              20862|                   263|                          56|        5228|              3378|            13|                2|            0|       2|       10|         2|               1|                 0|       14505|        6.8|             17484|                  210|                         64|      -5228|            -3378|[14.0,1.0,1.0,10....|\n",
      "|       0|             43|                 3|             0|        3|         7|          3|                1|                  0|        14852|         6.8|              16888|                   203|                          54|       -1975|             -1345|            17|               14|            1|       7|        3|         6|               0|                 0|       16827|        6.8|             18233|                  218|                         53|       1975|             1345|[43.0,3.0,0.0,3.0...|\n",
      "|       1|             21|                 4|             1|        5|         4|         11|                0|                  0|        16282|         6.8|              17378|                   213|                          49|         882|               512|            19|                3|            0|       4|        5|         3|               2|                 0|       15400|        6.6|             16866|                  228|                         52|       -882|             -512|[21.0,4.0,1.0,5.0...|\n",
      "|       0|             11|                 3|             0|        5|         9|          5|                0|                  0|        14994|         7.0|              17924|                   188|                          48|       -3155|             -2773|            15|                1|            1|       9|        5|         9|               0|                 0|       18149|        7.4|             20697|                  219|                         56|       3155|             2773|[11.0,3.0,0.0,5.0...|\n",
      "+--------+---------------+------------------+--------------+---------+----------+-----------+-----------------+-------------------+-------------+------------+-------------------+----------------------+----------------------------+------------+------------------+--------------+-----------------+-------------+--------+---------+----------+----------------+------------------+------------+-----------+------------------+---------------------+---------------------------+-----------+-----------------+--------------------+\n",
      "only showing top 20 rows\n",
      "\n"
     ]
    }
   ],
   "source": [
    "# Adding the features to the data frame.\n",
    "lol_output = lol_assembler.transform(lol_data)\n",
    "lol_output.show()"
   ]
  },
  {
   "cell_type": "code",
   "execution_count": 15,
   "id": "f3c213ca",
   "metadata": {},
   "outputs": [
    {
     "name": "stdout",
     "output_type": "stream",
     "text": [
      "+--------------------+--------+\n",
      "|            features|blueWins|\n",
      "+--------------------+--------+\n",
      "|[28.0,2.0,1.0,9.0...|       0|\n",
      "|[12.0,1.0,0.0,5.0...|       0|\n",
      "|[15.0,0.0,0.0,7.0...|       0|\n",
      "|[43.0,1.0,0.0,4.0...|       0|\n",
      "|[75.0,4.0,0.0,6.0...|       0|\n",
      "|[18.0,0.0,0.0,5.0...|       1|\n",
      "|[18.0,3.0,1.0,7.0...|       1|\n",
      "|[16.0,2.0,0.0,5.0...|       0|\n",
      "|[16.0,3.0,0.0,7.0...|       0|\n",
      "|[13.0,1.0,1.0,4.0...|       1|\n",
      "|[20.0,3.0,1.0,4.0...|       0|\n",
      "|[33.0,2.0,1.0,11....|       0|\n",
      "|[18.0,1.0,1.0,7.0...|       1|\n",
      "|[14.0,3.0,0.0,4.0...|       0|\n",
      "|[15.0,3.0,1.0,4.0...|       1|\n",
      "|[17.0,1.0,0.0,3.0...|       0|\n",
      "|[14.0,1.0,1.0,10....|       1|\n",
      "|[43.0,3.0,0.0,3.0...|       0|\n",
      "|[21.0,4.0,1.0,5.0...|       1|\n",
      "|[11.0,3.0,0.0,5.0...|       0|\n",
      "+--------------------+--------+\n",
      "only showing top 20 rows\n",
      "\n"
     ]
    }
   ],
   "source": [
    "# Generating a new data frame which has the features and target variable \"blueWins\".\n",
    "lol_trees_model = lol_output.select(\"features\",\"blueWins\")\n",
    "lol_trees_model.show()"
   ]
  },
  {
   "cell_type": "code",
   "execution_count": 16,
   "id": "c7158dcc",
   "metadata": {},
   "outputs": [],
   "source": [
    "import pyspark.sql.functions as f"
   ]
  },
  {
   "cell_type": "code",
   "execution_count": 17,
   "id": "93ce2871",
   "metadata": {},
   "outputs": [],
   "source": [
    "# Preparing data frame to fit the model. Training data has 70% and testing 30%.\n",
    "train_lol_data, test_lol_data = lol_trees_model.randomSplit([0.7, 0.3])"
   ]
  },
  {
   "cell_type": "code",
   "execution_count": 18,
   "id": "20b70cfa",
   "metadata": {},
   "outputs": [
    {
     "data": {
      "text/plain": [
       "6963"
      ]
     },
     "execution_count": 18,
     "metadata": {},
     "output_type": "execute_result"
    }
   ],
   "source": [
    "# Training data check.\n",
    "train_lol_data.count()"
   ]
  },
  {
   "cell_type": "code",
   "execution_count": 19,
   "id": "a441ae4c",
   "metadata": {},
   "outputs": [
    {
     "data": {
      "text/plain": [
       "2916"
      ]
     },
     "execution_count": 19,
     "metadata": {},
     "output_type": "execute_result"
    }
   ],
   "source": [
    "#Testing data check.\n",
    "test_lol_data.count()"
   ]
  },
  {
   "cell_type": "code",
   "execution_count": 20,
   "id": "fb7385cc",
   "metadata": {},
   "outputs": [],
   "source": [
    "from pyspark.ml.classification import DecisionTreeClassifier\n",
    "from pyspark.ml.evaluation import MulticlassClassificationEvaluator"
   ]
  },
  {
   "cell_type": "code",
   "execution_count": 21,
   "id": "1e8e4c1b",
   "metadata": {},
   "outputs": [],
   "source": [
    "# Using DecisionTreeClassiefier class, fitting the training data onto the target variable \"blueWins\". Storing it into the \"lol_data_classifier\" object.\n",
    "lol_data_classifier = DecisionTreeClassifier(labelCol = \"blueWins\").fit(train_lol_data)"
   ]
  },
  {
   "cell_type": "code",
   "execution_count": 22,
   "id": "136064f4",
   "metadata": {},
   "outputs": [],
   "source": [
    "# Generating predictions of the testing data and storing it into the \"lol_data_predictions\" variable.\n",
    "lol_data_predictions = lol_data_classifier.transform(test_lol_data)"
   ]
  },
  {
   "cell_type": "code",
   "execution_count": 23,
   "id": "8568bd02",
   "metadata": {},
   "outputs": [
    {
     "name": "stdout",
     "output_type": "stream",
     "text": [
      "+--------------------+--------+-------------+--------------------+----------+\n",
      "|            features|blueWins|rawPrediction|         probability|prediction|\n",
      "+--------------------+--------+-------------+--------------------+----------+\n",
      "|[5.0,0.0,0.0,2.0,...|       0| [611.0,42.0]|[0.93568147013782...|       0.0|\n",
      "|[5.0,1.0,0.0,4.0,...|       1|[846.0,238.0]|[0.78044280442804...|       0.0|\n",
      "|[8.0,0.0,1.0,4.0,...|       1|[296.0,457.0]|[0.39309428950863...|       1.0|\n",
      "|[8.0,3.0,0.0,2.0,...|       0|[338.0,132.0]|[0.71914893617021...|       0.0|\n",
      "|[8.0,3.0,0.0,5.0,...|       0| [611.0,42.0]|[0.93568147013782...|       0.0|\n",
      "|[9.0,1.0,0.0,4.0,...|       1|[846.0,238.0]|[0.78044280442804...|       0.0|\n",
      "|[9.0,1.0,0.0,5.0,...|       0|[846.0,238.0]|[0.78044280442804...|       0.0|\n",
      "|[9.0,1.0,1.0,6.0,...|       1|[164.0,738.0]|[0.18181818181818...|       1.0|\n",
      "|[9.0,1.0,1.0,7.0,...|       1|[164.0,738.0]|[0.18181818181818...|       1.0|\n",
      "|[9.0,2.0,0.0,3.0,...|       0| [611.0,42.0]|[0.93568147013782...|       0.0|\n",
      "|[9.0,2.0,0.0,5.0,...|       1|[222.0,172.0]|[0.56345177664974...|       0.0|\n",
      "|[9.0,2.0,0.0,6.0,...|       1|[240.0,141.0]|[0.62992125984251...|       0.0|\n",
      "|[9.0,2.0,0.0,8.0,...|       1|[164.0,738.0]|[0.18181818181818...|       1.0|\n",
      "|[9.0,3.0,0.0,8.0,...|       1| [45.0,569.0]|[0.07328990228013...|       1.0|\n",
      "|[9.0,3.0,1.0,6.0,...|       0|[240.0,141.0]|[0.62992125984251...|       0.0|\n",
      "|[9.0,4.0,0.0,6.0,...|       1|[846.0,238.0]|[0.78044280442804...|       0.0|\n",
      "|[9.0,4.0,1.0,6.0,...|       1|[164.0,738.0]|[0.18181818181818...|       1.0|\n",
      "|[9.0,5.0,1.0,8.0,...|       0|[164.0,738.0]|[0.18181818181818...|       1.0|\n",
      "|[10.0,0.0,0.0,2.0...|       0| [611.0,42.0]|[0.93568147013782...|       0.0|\n",
      "|[10.0,0.0,0.0,6.0...|       0|[846.0,238.0]|[0.78044280442804...|       0.0|\n",
      "+--------------------+--------+-------------+--------------------+----------+\n",
      "only showing top 20 rows\n",
      "\n"
     ]
    }
   ],
   "source": [
    "# Actual vs. predicted values.\n",
    "lol_data_predictions.show()"
   ]
  },
  {
   "cell_type": "code",
   "execution_count": 24,
   "id": "37b8097e",
   "metadata": {},
   "outputs": [
    {
     "data": {
      "text/plain": [
       "0.72599451303155"
      ]
     },
     "execution_count": 24,
     "metadata": {},
     "output_type": "execute_result"
    }
   ],
   "source": [
    "# Decision Trees model accuracy\n",
    "lol_DT_accuracy = MulticlassClassificationEvaluator(labelCol=\"blueWins\", metricName = \"accuracy\").evaluate(lol_data_predictions)\n",
    "lol_DT_accuracy"
   ]
  },
  {
   "cell_type": "code",
   "execution_count": 25,
   "id": "1417bf11",
   "metadata": {},
   "outputs": [
    {
     "data": {
      "text/plain": [
       "0.7263822459785481"
      ]
     },
     "execution_count": 25,
     "metadata": {},
     "output_type": "execute_result"
    }
   ],
   "source": [
    "# Decision Trees model precision\n",
    "lol_DT_precision = MulticlassClassificationEvaluator(labelCol=\"blueWins\", metricName = \"weightedPrecision\").evaluate(lol_data_predictions)\n",
    "lol_DT_precision"
   ]
  },
  {
   "cell_type": "code",
   "execution_count": 26,
   "id": "24177bcb",
   "metadata": {},
   "outputs": [
    {
     "data": {
      "text/plain": [
       "SparseVector(30, {6: 0.0028, 10: 0.0036, 13: 0.1262, 14: 0.0211, 16: 0.0021, 20: 0.0047, 21: 0.0175, 22: 0.0048, 25: 0.0044, 27: 0.0048, 28: 0.787, 29: 0.0209})"
      ]
     },
     "execution_count": 26,
     "metadata": {},
     "output_type": "execute_result"
    }
   ],
   "source": [
    "# Generating the prioritised features of the Decision Trees model.\n",
    "lol_data_classifier.featureImportances"
   ]
  },
  {
   "cell_type": "code",
   "execution_count": 27,
   "id": "33f0dc88",
   "metadata": {},
   "outputs": [
    {
     "data": {
      "text/plain": [
       "0.7259483960271287"
      ]
     },
     "execution_count": 27,
     "metadata": {},
     "output_type": "execute_result"
    }
   ],
   "source": [
    "# Decision Trees model F1 score\n",
    "lol_DT_F1Score = MulticlassClassificationEvaluator(labelCol=\"blueWins\", metricName = \"weightedFMeasure\").evaluate(lol_data_predictions)\n",
    "lol_DT_F1Score"
   ]
  },
  {
   "cell_type": "code",
   "execution_count": 28,
   "id": "00f43907",
   "metadata": {},
   "outputs": [
    {
     "data": {
      "text/plain": [
       "0.2737249132253782"
      ]
     },
     "execution_count": 28,
     "metadata": {},
     "output_type": "execute_result"
    }
   ],
   "source": [
    "# Decision Trees model false positive rate\n",
    "lol_DT_FPR = MulticlassClassificationEvaluator(labelCol=\"blueWins\", metricName = \"weightedFalsePositiveRate\").evaluate(lol_data_predictions)\n",
    "lol_DT_FPR"
   ]
  },
  {
   "cell_type": "code",
   "execution_count": 29,
   "id": "33bac2fd",
   "metadata": {},
   "outputs": [
    {
     "data": {
      "text/plain": [
       "0.7259945130315502"
      ]
     },
     "execution_count": 29,
     "metadata": {},
     "output_type": "execute_result"
    }
   ],
   "source": [
    "# Decision Trees model true positive rate\n",
    "lol_DT_TPR = MulticlassClassificationEvaluator(labelCol=\"blueWins\", metricName = \"weightedTruePositiveRate\").evaluate(lol_data_predictions)\n",
    "lol_DT_TPR"
   ]
  },
  {
   "cell_type": "code",
   "execution_count": 30,
   "id": "996093a0",
   "metadata": {},
   "outputs": [
    {
     "data": {
      "text/plain": [
       "0.7259945130315502"
      ]
     },
     "execution_count": 30,
     "metadata": {},
     "output_type": "execute_result"
    }
   ],
   "source": [
    "# Decision Trees model sensitivity\n",
    "lol_DT_Sens = MulticlassClassificationEvaluator(labelCol=\"blueWins\", metricName = \"weightedRecall\").evaluate(lol_data_predictions)\n",
    "lol_DT_Sens"
   ]
  },
  {
   "cell_type": "code",
   "execution_count": 31,
   "id": "f8a90926",
   "metadata": {},
   "outputs": [],
   "source": [
    "import matplotlib.pyplot as plt"
   ]
  },
  {
   "cell_type": "code",
   "execution_count": 32,
   "id": "ecf7af41",
   "metadata": {},
   "outputs": [
    {
     "data": {
      "text/plain": [
       "0.7259483960271287"
      ]
     },
     "execution_count": 32,
     "metadata": {},
     "output_type": "execute_result"
    }
   ],
   "source": [
    "# Decision Trees model area under the curve\n",
    "lol_DT_auc = MulticlassClassificationEvaluator(labelCol=\"blueWins\").evaluate(lol_data_predictions)\n",
    "lol_DT_auc"
   ]
  },
  {
   "cell_type": "code",
   "execution_count": 33,
   "id": "9a01825c",
   "metadata": {
    "scrolled": false
   },
   "outputs": [
    {
     "data": {
      "image/png": "[encoded data removed]",
      "text/plain": [
       "<Figure size 432x288 with 1 Axes>"
      ]
     },
     "metadata": {
      "needs_background": "light"
     },
     "output_type": "display_data"
    }
   ],
   "source": [
    "plt.title('Decision Trees - ROC & AUC')\n",
    "plt.plot(lol_DT_FPR, lol_DT_TPR, label = lol_DT_auc)\n",
    "plt.legend(loc = 'lower right')\n",
    "plt.plot([0, 1], [0, 1],'r--')\n",
    "plt.xlim([0, 1])\n",
    "plt.ylim([0, 1])\n",
    "plt.ylabel('True Positive Rate')\n",
    "plt.xlabel('False Positive Rate')\n",
    "plt.show()"
   ]
  }
 ],
 "metadata": {
  "kernelspec": {
   "display_name": "Python 3 (ipykernel)",
   "language": "python",
   "name": "python3"
  },
  "language_info": {
   "codemirror_mode": {
    "name": "ipython",
    "version": 3
   },
   "file_extension": ".py",
   "mimetype": "text/x-python",
   "name": "python",
   "nbconvert_exporter": "python",
   "pygments_lexer": "ipython3",
   "version": "3.9.7"
  }
 },
 "nbformat": 4,
 "nbformat_minor": 5
}
